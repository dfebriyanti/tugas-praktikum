{
  "nbformat": 4,
  "nbformat_minor": 0,
  "metadata": {
    "colab": {
      "provenance": []
    },
    "kernelspec": {
      "name": "python3",
      "display_name": "Python 3"
    },
    "language_info": {
      "name": "python"
    }
  },
  "cells": [
    {
      "cell_type": "markdown",
      "source": [
        "**LIST**"
      ],
      "metadata": {
        "id": "ipUnvSRJstdb"
      }
    },
    {
      "cell_type": "markdown",
      "source": [
        "EXAMPLES OF USING BUILT-IN METHODS"
      ],
      "metadata": {
        "id": "7O-K9cTMsZR2"
      }
    },
    {
      "cell_type": "code",
      "source": [
        "# Initialize a sample list\n",
        "my_list = [1,2,3,4,3,5]\n",
        "\n",
        "# append(x) - Adds an element to the end of the list\n",
        "my_list.append(6)\n",
        "print(my_list)"
      ],
      "metadata": {
        "id": "V5VMOCZwsTx2",
        "colab": {
          "base_uri": "https://localhost:8080/"
        },
        "outputId": "25b592f6-b3f2-424f-de9b-282523b2101c"
      },
      "execution_count": null,
      "outputs": [
        {
          "output_type": "stream",
          "name": "stdout",
          "text": [
            "[1, 2, 3, 4, 3, 5, 6]\n"
          ]
        }
      ]
    },
    {
      "cell_type": "code",
      "source": [
        "# extend(iterable) - Extends the list with elements from another iterable\n",
        "my_list.extend([7, 8, 9])\n",
        "print(my_list)"
      ],
      "metadata": {
        "id": "VIAlWVTOuYll",
        "colab": {
          "base_uri": "https://localhost:8080/"
        },
        "outputId": "9aad4aaf-bcb6-4ed7-d8e2-edd3df2365f3"
      },
      "execution_count": null,
      "outputs": [
        {
          "output_type": "stream",
          "name": "stdout",
          "text": [
            "[1, 2, 3, 4, 3, 5, 6, 7, 8, 9]\n"
          ]
        }
      ]
    },
    {
      "cell_type": "code",
      "source": [
        "# insert(i, x) - Inserts an element at a specified index\n",
        "my_list.insert(2, 10)\n",
        "print(my_list)"
      ],
      "metadata": {
        "id": "vyDtj7SJucps",
        "colab": {
          "base_uri": "https://localhost:8080/"
        },
        "outputId": "7a26384a-4333-4b66-9b57-ba63a4d69be6"
      },
      "execution_count": null,
      "outputs": [
        {
          "output_type": "stream",
          "name": "stdout",
          "text": [
            "[1, 2, 10, 3, 4, 3, 5, 6, 7, 8, 9]\n"
          ]
        }
      ]
    },
    {
      "cell_type": "code",
      "source": [
        "# remove(x) - Removes the first occurrence of an element\n",
        "my_list.remove(3)\n",
        "print(my_list)"
      ],
      "metadata": {
        "id": "iZS-101gueiZ",
        "colab": {
          "base_uri": "https://localhost:8080/"
        },
        "outputId": "4a6539b3-245c-444a-e2d6-b560064c2c08"
      },
      "execution_count": null,
      "outputs": [
        {
          "output_type": "stream",
          "name": "stdout",
          "text": [
            "[1, 2, 10, 4, 3, 5, 6, 7, 8, 9]\n"
          ]
        }
      ]
    },
    {
      "cell_type": "code",
      "source": [
        "# pop([i]) - Removes and returns an element (default: last element)\n",
        "popped_element = my_list.pop(2)\n",
        "print(f\"Popped element: {popped_element}\")"
      ],
      "metadata": {
        "id": "LGqmjsJBuiTM",
        "colab": {
          "base_uri": "https://localhost:8080/"
        },
        "outputId": "d4704fb7-92e4-4d56-8105-16b979c6c772"
      },
      "execution_count": null,
      "outputs": [
        {
          "output_type": "stream",
          "name": "stdout",
          "text": [
            "Popped element: 10\n"
          ]
        }
      ]
    },
    {
      "cell_type": "code",
      "source": [
        "# clear() - Removes all elements from the list\n",
        "my_list.clear()\n",
        "print(my_list)"
      ],
      "metadata": {
        "id": "xZH43p3fukkS",
        "colab": {
          "base_uri": "https://localhost:8080/"
        },
        "outputId": "e17ef70b-ef4c-4507-cd1c-3e7af4c27c6f"
      },
      "execution_count": null,
      "outputs": [
        {
          "output_type": "stream",
          "name": "stdout",
          "text": [
            "[]\n"
          ]
        }
      ]
    },
    {
      "cell_type": "code",
      "source": [
        "# index(x[, start[, end]]) - Returns the index of the first occurrence of an element\n",
        "my_list = [1, 2, 3, 4, 3, 5]\n",
        "index = my_list.index(3)\n",
        "print(f\"Index of 3: {index}\")"
      ],
      "metadata": {
        "id": "ve2N7V48unXm",
        "colab": {
          "base_uri": "https://localhost:8080/"
        },
        "outputId": "0455abf0-9da0-44be-b9ab-c5b936254e76"
      },
      "execution_count": null,
      "outputs": [
        {
          "output_type": "stream",
          "name": "stdout",
          "text": [
            "Index of 3: 2\n"
          ]
        }
      ]
    },
    {
      "cell_type": "code",
      "source": [
        "# count(x) - Returns the number of occurrences of an element\n",
        "count = my_list.count(3)\n",
        "print(f\"Count of 3: {count}\")"
      ],
      "metadata": {
        "id": "ZlXX0jBNuqgg",
        "colab": {
          "base_uri": "https://localhost:8080/"
        },
        "outputId": "3ad1a667-d49f-4537-bfeb-812eef17988a"
      },
      "execution_count": null,
      "outputs": [
        {
          "output_type": "stream",
          "name": "stdout",
          "text": [
            "Count of 3: 2\n"
          ]
        }
      ]
    },
    {
      "cell_type": "code",
      "source": [
        "# sort(key=None, reverse=False) - Sorts the list in ascending order\n",
        "my_list.sort()\n",
        "print(my_list)"
      ],
      "metadata": {
        "id": "-w3DQMEYus4k",
        "colab": {
          "base_uri": "https://localhost:8080/"
        },
        "outputId": "0d468a63-cebb-4c20-8426-cb2a9493ab3c"
      },
      "execution_count": null,
      "outputs": [
        {
          "output_type": "stream",
          "name": "stdout",
          "text": [
            "[1, 2, 3, 3, 4, 5]\n"
          ]
        }
      ]
    },
    {
      "cell_type": "code",
      "source": [
        "# reverse() - Reverses the order of elements\n",
        "my_list.reverse()\n",
        "print(my_list)"
      ],
      "metadata": {
        "id": "FbjDkD3luv3i",
        "colab": {
          "base_uri": "https://localhost:8080/"
        },
        "outputId": "cde9cc55-222e-4a5d-9ce5-84210bbb2fda"
      },
      "execution_count": null,
      "outputs": [
        {
          "output_type": "stream",
          "name": "stdout",
          "text": [
            "[5, 4, 3, 3, 2, 1]\n"
          ]
        }
      ]
    },
    {
      "cell_type": "code",
      "source": [
        "# copy() - Creates a shallow copy of the list\n",
        "copy_of_list = my_list.copy()\n",
        "print(copy_of_list)"
      ],
      "metadata": {
        "id": "JH8gPB4huzPO",
        "colab": {
          "base_uri": "https://localhost:8080/"
        },
        "outputId": "5199a798-6be8-4c7d-c192-781f8aa99a1d"
      },
      "execution_count": null,
      "outputs": [
        {
          "output_type": "stream",
          "name": "stdout",
          "text": [
            "[5, 4, 3, 3, 2, 1]\n"
          ]
        }
      ]
    },
    {
      "cell_type": "code",
      "source": [
        "# len(list) - Returns the number of elements in the list\n",
        "length = len(my_list)\n",
        "print(f\"Length of the list: {length}\") # Output: Length of the list: 6"
      ],
      "metadata": {
        "id": "vFnuZ0LVu6iW",
        "colab": {
          "base_uri": "https://localhost:8080/"
        },
        "outputId": "a6da5dce-07b8-4fbc-d08f-b5707ebb2df3"
      },
      "execution_count": null,
      "outputs": [
        {
          "output_type": "stream",
          "name": "stdout",
          "text": [
            "Length of the list: 6\n"
          ]
        }
      ]
    },
    {
      "cell_type": "markdown",
      "source": [
        "CREATING PYTHON LIST"
      ],
      "metadata": {
        "id": "0eVSKfelu9zg"
      }
    },
    {
      "cell_type": "code",
      "source": [
        "list1=[] # creating an empty list\n",
        "list2=[1,2.4,'abc',(1,2),[6,78,9]] # creating a list of different values\n",
        "print(\"The type of\",list1,\"is:\",type(list1))\n",
        "print(\"The type of\",list2,\"is:\",type(list2))"
      ],
      "metadata": {
        "id": "jEdgPXwUu_pq",
        "colab": {
          "base_uri": "https://localhost:8080/"
        },
        "outputId": "149787a5-90cc-473b-fdec-c14cc1c74bec"
      },
      "execution_count": null,
      "outputs": [
        {
          "output_type": "stream",
          "name": "stdout",
          "text": [
            "The type of [] is: <class 'list'>\n",
            "The type of [1, 2.4, 'abc', (1, 2), [6, 78, 9]] is: <class 'list'>\n"
          ]
        }
      ]
    },
    {
      "cell_type": "markdown",
      "source": [
        "SLICING THE LIST IN PYTHON"
      ],
      "metadata": {
        "id": "PgmACrW6vXFL"
      }
    },
    {
      "cell_type": "code",
      "source": [
        "list_1=[1,3,5.6,'a',\"PythonGeeks\",0.4]\n",
        "print(\"list_1[2:5] =\",list_1[2:5]) # slicing 3rd to 5th element\n",
        "print(\"list_1[:] =\",list_1[:]) # getting entire list\n",
        "print(\"list_1[-5:-2] =\",list_1[-5:-2]) # slicing last 5th to 3rd element\n",
        "print(\"list_1[3:] =\",list_1[3:]) # slicing all elements after 3rd one\n",
        "print(\"list_1[-3:] =\",list_1[-3:]) # slicing all elements after last 3rd one\n",
        "print(\"list_1[:2] =\",list_1[:2]) # slicing all elements till 2nd one\n",
        "print(\"list_1[:-2] =\",list_1[:-2])# slicing all elements till last 2nd one"
      ],
      "metadata": {
        "id": "n4B6zJWgvZhj",
        "colab": {
          "base_uri": "https://localhost:8080/"
        },
        "outputId": "e3a6caef-fdcf-43ee-cf6e-b2cf0b640fce"
      },
      "execution_count": null,
      "outputs": [
        {
          "output_type": "stream",
          "name": "stdout",
          "text": [
            "list_1[2:5] = [5.6, 'a', 'PythonGeeks']\n",
            "list_1[:] = [1, 3, 5.6, 'a', 'PythonGeeks', 0.4]\n",
            "list_1[-5:-2] = [3, 5.6, 'a']\n",
            "list_1[3:] = ['a', 'PythonGeeks', 0.4]\n",
            "list_1[-3:] = ['a', 'PythonGeeks', 0.4]\n",
            "list_1[:2] = [1, 3]\n",
            "list_1[:-2] = [1, 3, 5.6, 'a']\n"
          ]
        }
      ]
    },
    {
      "cell_type": "markdown",
      "source": [
        "MODIFYING AND DELETING FROM PYTHON LIST"
      ],
      "metadata": {
        "id": "_t1BCH0-vdG3"
      }
    },
    {
      "cell_type": "code",
      "source": [
        "# Create a list\n",
        "my_list = [1, 2, 3, 4, 5]\n",
        "# Modify an element using indexing\n",
        "my_list[2] = 10\n",
        "print(\"After modifying using indexing:\", my_list)\n",
        "# Modify a range of elements using slicing\n",
        "my_list[1:4] = [20, 30, 40]\n",
        "print(\"After modifying using slicing:\", my_list)\n",
        "# Delete an element using indexing\n",
        "del my_list[2]\n",
        "print(\"After deleting using indexing:\", my_list)\n",
        "# Delete a range of elements using slicing\n",
        "my_list[1:4] = []\n",
        "print(\"After deleting using slicing:\", my_list)\n",
        "# Delete the entire list\n",
        "del my_list\n",
        "# Now, my_list is no longer defined"
      ],
      "metadata": {
        "id": "ZjS-wLZzvh_Q",
        "colab": {
          "base_uri": "https://localhost:8080/"
        },
        "outputId": "eaebbc00-c2cf-433d-f3c3-f8fa0cb65ecb"
      },
      "execution_count": null,
      "outputs": [
        {
          "output_type": "stream",
          "name": "stdout",
          "text": [
            "After modifying using indexing: [1, 2, 10, 4, 5]\n",
            "After modifying using slicing: [1, 20, 30, 40, 5]\n",
            "After deleting using indexing: [1, 20, 40, 5]\n",
            "After deleting using slicing: [1]\n"
          ]
        }
      ]
    },
    {
      "cell_type": "markdown",
      "source": [
        "COMMON WAYS TO LOOP THROUGH A LIST"
      ],
      "metadata": {
        "id": "mI4VR2YpvmsV"
      }
    },
    {
      "cell_type": "code",
      "source": [
        "# Create a sample list\n",
        "my_list = [1, 2, 3, 4, 5]\n",
        "# Method 1: Loop through the list and print each element\n",
        "for item in my_list:\n",
        " print(item)\n",
        "# Method 2: Loop through the list with index using enumerate()\n",
        "for index, item in enumerate(my_list):\n",
        " print(f\"Index {index}: {item}\")\n",
        "# Method 3: Loop through the list in reverse order\n",
        "for item in reversed(my_list):\n",
        " print(item)"
      ],
      "metadata": {
        "id": "Or18QM7Qvp_f",
        "colab": {
          "base_uri": "https://localhost:8080/"
        },
        "outputId": "cad1ec9f-6fd0-4dac-874a-2c6dfc72e44e"
      },
      "execution_count": null,
      "outputs": [
        {
          "output_type": "stream",
          "name": "stdout",
          "text": [
            "1\n",
            "2\n",
            "3\n",
            "4\n",
            "5\n",
            "Index 0: 1\n",
            "Index 1: 2\n",
            "Index 2: 3\n",
            "Index 3: 4\n",
            "Index 4: 5\n",
            "5\n",
            "4\n",
            "3\n",
            "2\n",
            "1\n"
          ]
        }
      ]
    },
    {
      "cell_type": "markdown",
      "source": [
        "LIST COMPREHENSION IN PYTHON"
      ],
      "metadata": {
        "id": "vBUy42krvtT8"
      }
    },
    {
      "cell_type": "code",
      "source": [
        "# For example:\n",
        "# Sample 1:\n",
        "list1=[1,-2,3,-4,5]\n",
        "list2=[x**2 for x in list1]\n",
        "print(list2)\n",
        "# Sample 2 (with condition):\n",
        "fruits = [\"apple\", \"banana\", \"cherry\", \"kiwi\", \"mango\"]\n",
        "newlist = [x if x != \"banana\" else \"orange\" for x in fruits]\n",
        "print(newlist)"
      ],
      "metadata": {
        "id": "BjkYPQBOvxU7",
        "colab": {
          "base_uri": "https://localhost:8080/"
        },
        "outputId": "129f27ee-3294-4c71-bc31-496eb6c3ecfe"
      },
      "execution_count": null,
      "outputs": [
        {
          "output_type": "stream",
          "name": "stdout",
          "text": [
            "[1, 4, 9, 16, 25]\n",
            "['apple', 'orange', 'cherry', 'kiwi', 'mango']\n"
          ]
        }
      ]
    },
    {
      "cell_type": "markdown",
      "source": [
        "UNPACKING THE LIST"
      ],
      "metadata": {
        "id": "795vJf_4v9lf"
      }
    },
    {
      "cell_type": "code",
      "source": [
        "emp_info=['Python',5,'Developer']\n",
        "#List unpacking\n",
        "skill,exp,role=emp_info\n",
        "print (skill) #Output:Python\n",
        "print (exp) #Output:5\n",
        "print (role) #Output:Developer"
      ],
      "metadata": {
        "id": "fI2F-If0wAmR",
        "colab": {
          "base_uri": "https://localhost:8080/"
        },
        "outputId": "67e2edcb-43e2-49a3-87e5-019019a9e3cf"
      },
      "execution_count": null,
      "outputs": [
        {
          "output_type": "stream",
          "name": "stdout",
          "text": [
            "Python\n",
            "5\n",
            "Developer\n"
          ]
        }
      ]
    },
    {
      "cell_type": "markdown",
      "source": [
        "USING LIST AS STACK - EXAMPLE"
      ],
      "metadata": {
        "id": "cnfRNx0q4SBi"
      }
    },
    {
      "cell_type": "code",
      "source": [
        "# Initialize an empty stack to represent the browser history\n",
        "browser_history = []\n",
        "# Simulate user browsing by pushing visited pages onto the stack\n",
        "browser_history.append(\"Homepage\")\n",
        "browser_history.append(\"About Us\")\n",
        "browser_history.append(\"Products\")\n",
        "browser_history.append(\"Contact Us\")\n",
        "# User clicks the back button\n",
        "if len(browser_history) > 0:\n",
        " current_page = browser_history.pop()\n",
        " print(\"User clicked the back button. Navigating to:\", current_page)\n",
        "# User continues browsing and adds more pages to the history\n",
        "browser_history.append(\"FAQs\")\n",
        "browser_history.append(\"Blog\")\n",
        "# User clicks the back button again\n",
        "if len(browser_history) > 0:\n",
        " current_page = browser_history.pop()\n",
        " print(\"User clicked the back button. Navigating to:\", current_page)\n",
        "# At this point, the browser history would contain [\"Homepage\", \"About Us\", \"Products\", \"Contact Us\", \"FAQs\"].\n"
      ],
      "metadata": {
        "colab": {
          "base_uri": "https://localhost:8080/"
        },
        "id": "MdHmLX624Uip",
        "outputId": "b185041f-0b86-44ac-a152-f2682fe7b02e"
      },
      "execution_count": null,
      "outputs": [
        {
          "output_type": "stream",
          "name": "stdout",
          "text": [
            "User clicked the back button. Navigating to: Contact Us\n",
            "User clicked the back button. Navigating to: Blog\n"
          ]
        }
      ]
    },
    {
      "cell_type": "markdown",
      "source": [
        "USING LIST AS QUEUE"
      ],
      "metadata": {
        "id": "IcaGp0nN4Yy_"
      }
    },
    {
      "cell_type": "code",
      "source": [
        "queue = ['Person 1','Person 2']\n",
        "\n",
        "# Adding elements to the queue\n",
        "queue.append('Person 3')\n",
        "\n",
        "print(\"\\nQueue before:\")\n",
        "print(queue)\n",
        "\n",
        "# Removing elements from the queue\n",
        "print(\"\\nElements dequeued from queue : \", queue.pop(0))\n",
        "\n",
        "print(\"\\nQueue after:\")\n",
        "print(queue)\n"
      ],
      "metadata": {
        "colab": {
          "base_uri": "https://localhost:8080/"
        },
        "id": "J5jZ2Mxm4bi-",
        "outputId": "6edf501b-ceac-47a3-ec58-76d9faba047b"
      },
      "execution_count": null,
      "outputs": [
        {
          "output_type": "stream",
          "name": "stdout",
          "text": [
            "\n",
            "Queue before:\n",
            "['Person 1', 'Person 2', 'Person 3']\n",
            "\n",
            "Elements dequeued from queue :  Person 1\n",
            "\n",
            "Queue after:\n",
            "['Person 2', 'Person 3']\n"
          ]
        }
      ]
    },
    {
      "cell_type": "markdown",
      "source": [
        "**TUPLES**"
      ],
      "metadata": {
        "id": "n1SHIIVt4e7Z"
      }
    },
    {
      "cell_type": "markdown",
      "source": [
        "BUILT-IN METHODS OF TUPLES"
      ],
      "metadata": {
        "id": "_kqO5yFN4vK7"
      }
    },
    {
      "cell_type": "code",
      "source": [
        "tup=(9,6,'g','Python',7.4)\n",
        "print(len(tup))\n",
        "print(tup.index('g'))\n",
        "print(tup.count('a'))\n"
      ],
      "metadata": {
        "colab": {
          "base_uri": "https://localhost:8080/"
        },
        "id": "XV4CyW1w4rBg",
        "outputId": "f4f4bfa4-ab1f-49cd-faa9-14d59481dae7"
      },
      "execution_count": null,
      "outputs": [
        {
          "output_type": "stream",
          "name": "stdout",
          "text": [
            "5\n",
            "2\n",
            "0\n"
          ]
        }
      ]
    },
    {
      "cell_type": "markdown",
      "source": [
        "CREATING TUPLES"
      ],
      "metadata": {
        "id": "sODe6eEP46wA"
      }
    },
    {
      "cell_type": "code",
      "source": [
        "# Create a tuple using round brackets\n",
        "t1 = (1, 2, 3, 4)\n",
        "# Create a tuple from a list the tuple() constructor\n",
        "t2 = tuple([1, 2, 3, 4, 5])\n",
        "# Create a tuple using the tuple() constructor\n",
        "t3 = tuple([1, 2, 3, 4, 5, 6])\n",
        "# Print out tuples\n",
        "print(f\"Tuple t1: {t1}\")\n",
        "print(f\"Tuple t2: {t2}\")\n",
        "print(f\"Tuple t3: {t3}\")\n"
      ],
      "metadata": {
        "colab": {
          "base_uri": "https://localhost:8080/"
        },
        "id": "xsD1rKjT47_a",
        "outputId": "bb574ab6-9788-482f-d277-e066fe76eba1"
      },
      "execution_count": null,
      "outputs": [
        {
          "output_type": "stream",
          "name": "stdout",
          "text": [
            "Tuple t1: (1, 2, 3, 4)\n",
            "Tuple t2: (1, 2, 3, 4, 5)\n",
            "Tuple t3: (1, 2, 3, 4, 5, 6)\n"
          ]
        }
      ]
    },
    {
      "cell_type": "markdown",
      "source": [
        "ACCESSING VALUES IN TUPLES"
      ],
      "metadata": {
        "id": "zgFBB6T14_Q1"
      }
    },
    {
      "cell_type": "code",
      "source": [
        "tup1 = ('physics', 'chemistry', 1997, 2000);\n",
        "tup2 = (1, 2, 3, 4, 5, 6, 7 );\n",
        "print (\"tup1[0]: \", tup1[0])\n",
        "print (\"tup2[1:5]: \", tup2[1:5])"
      ],
      "metadata": {
        "colab": {
          "base_uri": "https://localhost:8080/"
        },
        "id": "2Zm6eZ605BLk",
        "outputId": "b3779818-dece-48cc-8f90-634dc86d9755"
      },
      "execution_count": 90,
      "outputs": [
        {
          "output_type": "stream",
          "name": "stdout",
          "text": [
            "tup1[0]:  physics\n",
            "tup2[1:5]:  (2, 3, 4, 5)\n"
          ]
        }
      ]
    },
    {
      "cell_type": "markdown",
      "source": [
        "UPDATING TUPLES"
      ],
      "metadata": {
        "id": "pwk5mBI65Ems"
      }
    },
    {
      "cell_type": "code",
      "source": [
        "tup1 = (12, 34.56);\n",
        "tup2 = ('abc', 'xyz');\n",
        "# Following action is NOT VALID for tuples\n",
        "# tup1[0] = 100;\n",
        "# So let's create a new tuple as follows\n",
        "tup3 = tup1 + tup2;\n",
        "print (tup3);"
      ],
      "metadata": {
        "colab": {
          "base_uri": "https://localhost:8080/"
        },
        "id": "gL6ko9Rs5Glo",
        "outputId": "b7a09a77-6304-47d6-bc89-d2ff98a1d925"
      },
      "execution_count": null,
      "outputs": [
        {
          "output_type": "stream",
          "name": "stdout",
          "text": [
            "(12, 34.56, 'abc', 'xyz')\n"
          ]
        }
      ]
    },
    {
      "cell_type": "markdown",
      "source": [
        "DELETE TUPLE ELEMENTS"
      ],
      "metadata": {
        "id": "Wzk5mcYs5MXF"
      }
    },
    {
      "cell_type": "code",
      "source": [
        "tup = ('physics','chemistry', 1997 , 2000);\n",
        "print (tup);\n",
        "del tup;\n",
        "print (\"After deleting tup : \");\n",
        "print (tup);"
      ],
      "metadata": {
        "id": "3qTyt0gK5Pcr"
      },
      "execution_count": null,
      "outputs": []
    },
    {
      "cell_type": "markdown",
      "source": [
        "CHANGING PYTHON TUPLE VALUE BY USING LIST()"
      ],
      "metadata": {
        "id": "pNlLSHLh5SVR"
      }
    },
    {
      "cell_type": "code",
      "source": [
        "tup=(1,2,3,4,5)\n",
        "list1=list(tup)\n",
        "list1[4]=6\n",
        "tup=tuple(list1)\n",
        "tup"
      ],
      "metadata": {
        "colab": {
          "base_uri": "https://localhost:8080/"
        },
        "id": "7VfWARG-5YFA",
        "outputId": "f9690130-b4a1-4db1-b153-604bfd8e93c9"
      },
      "execution_count": null,
      "outputs": [
        {
          "output_type": "execute_result",
          "data": {
            "text/plain": [
              "(1, 2, 3, 4, 6)"
            ]
          },
          "metadata": {},
          "execution_count": 38
        }
      ]
    },
    {
      "cell_type": "markdown",
      "source": [
        "TUPLE PACKING AND PACKING"
      ],
      "metadata": {
        "id": "Vm-n2Z4h5beW"
      }
    },
    {
      "cell_type": "code",
      "source": [
        "tup=1,2,3 #packing\n",
        "print(\"The type of \",tup,\"is:\",type(tup))\n",
        "a,b,c=tup #unpacking\n",
        "print(a)\n",
        "print(b)\n",
        "print(c)"
      ],
      "metadata": {
        "colab": {
          "base_uri": "https://localhost:8080/"
        },
        "id": "YVBaTdt25g58",
        "outputId": "3fb20b21-4099-4876-b004-2214e9a9be5f"
      },
      "execution_count": null,
      "outputs": [
        {
          "output_type": "stream",
          "name": "stdout",
          "text": [
            "The type of  (1, 2, 3) is: <class 'tuple'>\n",
            "1\n",
            "2\n",
            "3\n"
          ]
        }
      ]
    },
    {
      "cell_type": "markdown",
      "source": [
        "**DICTIONARY**"
      ],
      "metadata": {
        "id": "4ggLC3Hc5ew4"
      }
    },
    {
      "cell_type": "markdown",
      "source": [
        "BUILT - IN METHODS OF DICTIONARIES - EXAMPLE"
      ],
      "metadata": {
        "id": "5nH4oQyU5ri4"
      }
    },
    {
      "cell_type": "code",
      "source": [
        "dict1={1:'a',2:'e',3:'i',4:'o',5:'u'}\n",
        "print(dict1.get(4))\n",
        "print(dict1.keys())\n",
        "print(dict1.values())\n",
        "print(dict1.items())\n",
        "var1=dict1.pop(2)\n",
        "print(\"The value of var1 is:\",var1)\n",
        "var2=dict1.popitem()\n",
        "print(\"The value of var2 is:\",var2)\n",
        "dict1.clear()\n",
        "dict1"
      ],
      "metadata": {
        "colab": {
          "base_uri": "https://localhost:8080/"
        },
        "id": "sAT1Zhi356X-",
        "outputId": "9de2b175-d425-4785-d79c-0912330ca297"
      },
      "execution_count": null,
      "outputs": [
        {
          "output_type": "stream",
          "name": "stdout",
          "text": [
            "o\n",
            "dict_keys([1, 2, 3, 4, 5])\n",
            "dict_values(['a', 'e', 'i', 'o', 'u'])\n",
            "dict_items([(1, 'a'), (2, 'e'), (3, 'i'), (4, 'o'), (5, 'u')])\n",
            "The value of var1 is: e\n",
            "The value of var2 is: (5, 'u')\n"
          ]
        },
        {
          "output_type": "execute_result",
          "data": {
            "text/plain": [
              "{}"
            ]
          },
          "metadata": {},
          "execution_count": 40
        }
      ]
    },
    {
      "cell_type": "markdown",
      "source": [
        "ACCESSING VALUES IN DICTIONARY"
      ],
      "metadata": {
        "id": "onaj8oex5wii"
      }
    },
    {
      "cell_type": "code",
      "source": [
        "dict = {'Name': 'Zara', 'Age': 7, 'Class': 'First'}\n",
        "print (\"dict['Name']: \", dict['Name'])\n",
        "print (\"dict['Age']: \", dict['Age'])"
      ],
      "metadata": {
        "colab": {
          "base_uri": "https://localhost:8080/"
        },
        "id": "y-aeV9U_6A9_",
        "outputId": "4aa5cefd-1507-450e-e9c8-856d53299272"
      },
      "execution_count": null,
      "outputs": [
        {
          "output_type": "stream",
          "name": "stdout",
          "text": [
            "dict['Name']:  Zara\n",
            "dict['Age']:  7\n"
          ]
        }
      ]
    },
    {
      "cell_type": "markdown",
      "source": [
        "UPDATING DICTIONARY"
      ],
      "metadata": {
        "id": "ercACDE95zUQ"
      }
    },
    {
      "cell_type": "code",
      "source": [
        "dict = {'Name': 'Zara', 'Age': 7, 'Class': 'First'}\n",
        "dict['Age'] = 8; # update existing entry\n",
        "dict['School'] = \"DPS School\"; # Add new entry\n",
        "print (\"dict['Age']: \", dict['Age'])\n",
        "print (\"dict['School']: \", dict['School'])"
      ],
      "metadata": {
        "colab": {
          "base_uri": "https://localhost:8080/"
        },
        "id": "oRC7bKj76CaR",
        "outputId": "ff1a736b-23a2-4c42-cad7-1fcb4d5b1ad7"
      },
      "execution_count": null,
      "outputs": [
        {
          "output_type": "stream",
          "name": "stdout",
          "text": [
            "dict['Age']:  8\n",
            "dict['School']:  DPS School\n"
          ]
        }
      ]
    },
    {
      "cell_type": "markdown",
      "source": [
        "DELETE DICTIONARY ELEMENTS"
      ],
      "metadata": {
        "id": "pKzwPnNj6HlU"
      }
    },
    {
      "cell_type": "code",
      "source": [
        "dict = {'Name': 'Zara', 'Age': 7, 'Class': 'First'}\n",
        "del dict['Name']; # remove entry with key 'Name'\n",
        "dict.clear(); # remove all entries in dict\n",
        "del dict ; # delete entire dictionary\n",
        "# an exception is raised here because after del dict dictionary does not exist any more :\n",
        "print (\"dict['Age']: \", dict['Age'])\n",
        "print (\"dict['School']: \", dict['School'])"
      ],
      "metadata": {
        "colab": {
          "base_uri": "https://localhost:8080/"
        },
        "id": "iRKH48FH6JtH",
        "outputId": "952b793d-2cd6-47a1-f1bf-2ed1cc370c8e"
      },
      "execution_count": null,
      "outputs": [
        {
          "output_type": "stream",
          "name": "stdout",
          "text": [
            "dict['Age']:  dict['Age']\n",
            "dict['School']:  dict['School']\n"
          ]
        }
      ]
    },
    {
      "cell_type": "markdown",
      "source": [
        "COMMON WAYS TO LOOPS THROUGH A DICTIONARY"
      ],
      "metadata": {
        "id": "YZNvEDM66V71"
      }
    },
    {
      "cell_type": "code",
      "source": [
        "# Creating a sample dictionary\n",
        "my_dict = {\"name\": \"Alice\", \"age\": 25, \"city\": \"New York\"}\n",
        "# Method 1: Loop through keys and access values\n",
        "for key in my_dict:\n",
        " print(key, \"->\", my_dict[key])\n",
        "# Method 2: Loop through keys and values using .items()\n",
        "for key, value in my_dict.items():\n",
        " print(key, \"->\", value)\n",
        "# Method 3: Loop through keys using .keys() (less common)\n",
        "for key in my_dict.keys():\n",
        " print(key, \"->\", my_dict[key])\n",
        "# Method 4: Loop through values using .values()\n",
        "for value in my_dict.values():\n",
        " print(value)"
      ],
      "metadata": {
        "colab": {
          "base_uri": "https://localhost:8080/"
        },
        "id": "7faWSHvf6OnO",
        "outputId": "8a501ccd-5889-4864-b779-ad853a2cf777"
      },
      "execution_count": 96,
      "outputs": [
        {
          "output_type": "stream",
          "name": "stdout",
          "text": [
            "name -> Alice\n",
            "age -> 25\n",
            "city -> New York\n",
            "name -> Alice\n",
            "age -> 25\n",
            "city -> New York\n",
            "name -> Alice\n",
            "age -> 25\n",
            "city -> New York\n",
            "Alice\n",
            "25\n",
            "New York\n"
          ]
        }
      ]
    },
    {
      "cell_type": "code",
      "source": [
        "# Creating a sample dictionary\n",
        "my_dict = {\"name\": \"Alice\", \"age\": 25, \"city\": \"New York\"}\n",
        "# Method 1: Loop through keys and access values\n",
        "for key in my_dict:\n",
        " print(key, \"->\", my_dict[key])\n",
        "# Method 2: Loop through keys and values using .items()\n",
        "for key, value in my_dict.items():\n",
        " print(key, \"->\", value)\n",
        "# Method 4: Loop through values using .values()\n",
        "for value in my_dict.values():\n",
        " print(value)\n"
      ],
      "metadata": {
        "colab": {
          "base_uri": "https://localhost:8080/"
        },
        "id": "g_1d1KQISIpj",
        "outputId": "b178d203-42fd-45af-8430-73b579b19442"
      },
      "execution_count": null,
      "outputs": [
        {
          "output_type": "stream",
          "name": "stdout",
          "text": [
            "name -> Alice\n",
            "age -> 25\n",
            "city -> New York\n",
            "name -> Alice\n",
            "age -> 25\n",
            "city -> New York\n",
            "Alice\n",
            "25\n",
            "New York\n"
          ]
        }
      ]
    },
    {
      "cell_type": "markdown",
      "source": [
        "**SET**"
      ],
      "metadata": {
        "id": "Akl-3FzX6b7Y"
      }
    },
    {
      "cell_type": "markdown",
      "source": [
        "CREATING A SET"
      ],
      "metadata": {
        "id": "NJ5crIZt6grO"
      }
    },
    {
      "cell_type": "code",
      "source": [
        "Days=set([\"Mon\",\"Tue\",\"Wed\",\"Thu\",\"Fri\",\"Sat\",\"Sun\"])\n",
        "Months={\"Jan\",\"Feb\",\"Mar\"}\n",
        "Dates={21,22,17}\n",
        "print(Days)\n",
        "print(Months)\n",
        "print(Dates)"
      ],
      "metadata": {
        "colab": {
          "base_uri": "https://localhost:8080/"
        },
        "id": "o9Q233RG6ic1",
        "outputId": "50b1ded5-2076-4ead-9512-198672bece6f"
      },
      "execution_count": null,
      "outputs": [
        {
          "output_type": "stream",
          "name": "stdout",
          "text": [
            "{'Sat', 'Fri', 'Wed', 'Thu', 'Tue', 'Mon', 'Sun'}\n",
            "{'Feb', 'Jan', 'Mar'}\n",
            "{17, 21, 22}\n"
          ]
        }
      ]
    },
    {
      "cell_type": "markdown",
      "source": [
        "ACCESSING VALUES IN A SET"
      ],
      "metadata": {
        "id": "xd6LbXaV6lND"
      }
    },
    {
      "cell_type": "code",
      "source": [
        "Days=set([\"Mon\",\"Tue\",\"Wed\",\"Thu\",\"Fri\",\"Sat\",\"Sun\"])\n",
        "for d in Days:\n",
        " print(d)"
      ],
      "metadata": {
        "colab": {
          "base_uri": "https://localhost:8080/"
        },
        "id": "ydn2ZGgb6nPw",
        "outputId": "1161ecc3-4f00-4800-eeea-cea5da212c1a"
      },
      "execution_count": null,
      "outputs": [
        {
          "output_type": "stream",
          "name": "stdout",
          "text": [
            "Sat\n",
            "Fri\n",
            "Wed\n",
            "Thu\n",
            "Tue\n",
            "Mon\n",
            "Sun\n"
          ]
        }
      ]
    },
    {
      "cell_type": "markdown",
      "source": [
        "ADDING & REMOVING ITEMS TO A SET"
      ],
      "metadata": {
        "id": "5bMjSxIx6wfa"
      }
    },
    {
      "cell_type": "code",
      "source": [
        "Days=set([\"Mon\",\"Tue\",\"Wed\",\"Thu\",\"Fri\",\"Sat\"])\n",
        "Days.add(\"Sun\")\n",
        "print(Days)"
      ],
      "metadata": {
        "colab": {
          "base_uri": "https://localhost:8080/"
        },
        "id": "LrtgiHKV60CW",
        "outputId": "b0efc6f5-88af-4ff7-c801-dd2b7cc1de4e"
      },
      "execution_count": null,
      "outputs": [
        {
          "output_type": "stream",
          "name": "stdout",
          "text": [
            "{'Sat', 'Fri', 'Wed', 'Thu', 'Tue', 'Mon', 'Sun'}\n"
          ]
        }
      ]
    },
    {
      "cell_type": "code",
      "source": [
        "Days=set([\"Mon\",\"Tue\",\"Wed\",\"Thu\",\"Fri\",\"Sat\"])\n",
        "Days.discard(\"Sun\")\n",
        "print(Days)"
      ],
      "metadata": {
        "colab": {
          "base_uri": "https://localhost:8080/"
        },
        "id": "82D4CCG062zd",
        "outputId": "f31347ae-363f-4ef7-de3a-2259f5dc49a8"
      },
      "execution_count": null,
      "outputs": [
        {
          "output_type": "stream",
          "name": "stdout",
          "text": [
            "{'Sat', 'Fri', 'Wed', 'Thu', 'Tue', 'Mon'}\n"
          ]
        }
      ]
    },
    {
      "cell_type": "markdown",
      "source": [
        "UNION, INTERSECTION, AND DIFFERENCE OF SETS"
      ],
      "metadata": {
        "id": "UgzIw6ri65vd"
      }
    },
    {
      "cell_type": "code",
      "source": [
        "DaysA = set([\"Mon\",\"Tue\",\"Wed\"])\n",
        "DaysB = set([\"Wed\",\"Thu\",\"Fri\",\"Sat\",\"Sun\"])\n",
        "print(DaysA|DaysB) # equals with print(DaysA.union(DaysB))\n",
        "print(DaysA & DaysB) # equals with print(DaysA.intersection(DaysB))\n",
        "print(DaysA - DaysB) # equals with print(DaysA.difference(DaysB)"
      ],
      "metadata": {
        "colab": {
          "base_uri": "https://localhost:8080/"
        },
        "id": "84BtPJbp69bX",
        "outputId": "d46e9a01-ab93-4eac-a0ec-bee537cd8ebc"
      },
      "execution_count": null,
      "outputs": [
        {
          "output_type": "stream",
          "name": "stdout",
          "text": [
            "{'Sat', 'Fri', 'Wed', 'Thu', 'Tue', 'Mon', 'Sun'}\n",
            "{'Wed'}\n",
            "{'Mon', 'Tue'}\n"
          ]
        }
      ]
    },
    {
      "cell_type": "markdown",
      "source": [
        "**CHOOSING DATA STRUCTURES**"
      ],
      "metadata": {
        "id": "Y9yeKsWf6_sx"
      }
    },
    {
      "cell_type": "markdown",
      "source": [
        "USING LIST OF TUPLES"
      ],
      "metadata": {
        "id": "FMhr0eOR8hP-"
      }
    },
    {
      "cell_type": "code",
      "source": [
        "employee_list = [(12345, \"John\", \"Kitchen\"), (12458, \"Paul\", \"House Floor\")]\n",
        "def get_employee(id):\n",
        "  for employee in employee_list:\n",
        "    if employee[0] == id:\n",
        "      return {\"id\": employee[0], \"name\": employee[1], \"department\": employee[2]}\n",
        "print(get_employee(12458))"
      ],
      "metadata": {
        "colab": {
          "base_uri": "https://localhost:8080/"
        },
        "id": "gPTRkfNz8l4h",
        "outputId": "151f9cb7-2bbf-4f35-f44e-6d8617f1229c"
      },
      "execution_count": null,
      "outputs": [
        {
          "output_type": "stream",
          "name": "stdout",
          "text": [
            "{'id': 12458, 'name': 'Paul', 'department': 'House Floor'}\n"
          ]
        }
      ]
    },
    {
      "cell_type": "markdown",
      "source": [
        "USING DICTIONARY"
      ],
      "metadata": {
        "id": "JVuKoEr78n_T"
      }
    },
    {
      "cell_type": "code",
      "source": [
        "employee_dict = {\n",
        " 12345: {\n",
        " \"id\": \"12345\",\n",
        " \"name\": \"John\",\n",
        " \"department\": \"Kitchen\"\n",
        " },\n",
        " 12458: {\n",
        " \"id\": \"12458\",\n",
        " \"name\": \"Paul\",\n",
        " \"department\": \"House Floor\"\n",
        " }\n",
        "}\n",
        "def get_employee_from_dict(id):\n",
        " return employee_dict[id];\n",
        "print(get_employee_from_dict(12458));"
      ],
      "metadata": {
        "colab": {
          "base_uri": "https://localhost:8080/"
        },
        "id": "VHJ8HR3E8qhE",
        "outputId": "722592dc-447b-4ce3-f910-f62162784269"
      },
      "execution_count": null,
      "outputs": [
        {
          "output_type": "stream",
          "name": "stdout",
          "text": [
            "{'id': '12458', 'name': 'Paul', 'department': 'House Floor'}\n"
          ]
        }
      ]
    }
  ]
}